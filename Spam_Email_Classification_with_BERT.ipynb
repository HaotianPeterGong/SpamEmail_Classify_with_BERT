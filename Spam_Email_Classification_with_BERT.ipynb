{
 "cells": [
  {
   "cell_type": "code",
   "execution_count": 1,
   "id": "9a1b81de",
   "metadata": {},
   "outputs": [],
   "source": [
    "#%config Completer.use_jedi = False"
   ]
  },
  {
   "cell_type": "code",
   "execution_count": 3,
   "id": "022e7fc7",
   "metadata": {},
   "outputs": [],
   "source": [
    "import numpy as np\n",
    "import pandas as pd\n",
    "import seaborn as sns\n",
    "import matplotlib.pyplot as plt\n",
    "from tqdm import tqdm\n",
    "import torch\n",
    "\n",
    "%matplotlib inline"
   ]
  },
  {
   "cell_type": "markdown",
   "id": "777f47c2",
   "metadata": {},
   "source": [
    "# Set up GPU"
   ]
  },
  {
   "cell_type": "code",
   "execution_count": 1,
   "id": "198ecb52",
   "metadata": {
    "scrolled": true
   },
   "outputs": [
    {
     "name": "stdout",
     "output_type": "stream",
     "text": [
      "Tue Jun 28 19:03:20 2022       \n",
      "+-----------------------------------------------------------------------------+\n",
      "| NVIDIA-SMI 515.48.07    Driver Version: 515.48.07    CUDA Version: 11.7     |\n",
      "|-------------------------------+----------------------+----------------------+\n",
      "| GPU  Name        Persistence-M| Bus-Id        Disp.A | Volatile Uncorr. ECC |\n",
      "| Fan  Temp  Perf  Pwr:Usage/Cap|         Memory-Usage | GPU-Util  Compute M. |\n",
      "|                               |                      |               MIG M. |\n",
      "|===============================+======================+======================|\n",
      "|   0  NVIDIA TITAN RTX    Off  | 00000000:06:00.0 Off |                  N/A |\n",
      "| 41%   26C    P8    12W / 280W |      0MiB / 24576MiB |      0%      Default |\n",
      "|                               |                      |                  N/A |\n",
      "+-------------------------------+----------------------+----------------------+\n",
      "|   1  NVIDIA TITAN RTX    Off  | 00000000:07:00.0 Off |                  N/A |\n",
      "| 41%   27C    P8     1W / 280W |      0MiB / 24576MiB |      0%      Default |\n",
      "|                               |                      |                  N/A |\n",
      "+-------------------------------+----------------------+----------------------+\n",
      "|   2  NVIDIA TITAN RTX    Off  | 00000000:08:00.0 Off |                  N/A |\n",
      "| 41%   28C    P8    10W / 280W |      0MiB / 24576MiB |      0%      Default |\n",
      "|                               |                      |                  N/A |\n",
      "+-------------------------------+----------------------+----------------------+\n",
      "|   3  NVIDIA TITAN RTX    Off  | 00000000:0C:00.0 Off |                  N/A |\n",
      "| 41%   28C    P8    15W / 280W |      0MiB / 24576MiB |      0%      Default |\n",
      "|                               |                      |                  N/A |\n",
      "+-------------------------------+----------------------+----------------------+\n",
      "|   4  NVIDIA TITAN RTX    Off  | 00000000:0D:00.0 Off |                  N/A |\n",
      "| 41%   26C    P8     2W / 280W |      0MiB / 24576MiB |      0%      Default |\n",
      "|                               |                      |                  N/A |\n",
      "+-------------------------------+----------------------+----------------------+\n",
      "|   5  NVIDIA TITAN RTX    Off  | 00000000:0E:00.0 Off |                  N/A |\n",
      "| 41%   29C    P8    15W / 280W |      0MiB / 24576MiB |      0%      Default |\n",
      "|                               |                      |                  N/A |\n",
      "+-------------------------------+----------------------+----------------------+\n",
      "|   6  NVIDIA TITAN RTX    Off  | 00000000:0F:00.0 Off |                  N/A |\n",
      "| 41%   28C    P8     1W / 280W |      0MiB / 24576MiB |      0%      Default |\n",
      "|                               |                      |                  N/A |\n",
      "+-------------------------------+----------------------+----------------------+\n",
      "                                                                               \n",
      "+-----------------------------------------------------------------------------+\n",
      "| Processes:                                                                  |\n",
      "|  GPU   GI   CI        PID   Type   Process name                  GPU Memory |\n",
      "|        ID   ID                                                   Usage      |\n",
      "|=============================================================================|\n",
      "|  No running processes found                                                 |\n",
      "+-----------------------------------------------------------------------------+\n"
     ]
    }
   ],
   "source": [
    "! nvidia-smi"
   ]
  },
  {
   "cell_type": "code",
   "execution_count": 5,
   "id": "55e791d8",
   "metadata": {},
   "outputs": [
    {
     "data": {
      "text/plain": [
       "1"
      ]
     },
     "execution_count": 5,
     "metadata": {},
     "output_type": "execute_result"
    }
   ],
   "source": [
    "import os\n",
    "os.environ['CUDA_VISIBLE_DEVICES'] = '4'\n",
    "\n",
    "no_cuda = False\n",
    "device = torch.device(\"cuda\" if torch.cuda.is_available() and not no_cuda else \"cpu\") # defult setting\n",
    "n_gpu = torch.cuda.device_count() # n_gpu = 0\n",
    "n_gpu"
   ]
  },
  {
   "cell_type": "markdown",
   "id": "830efb92",
   "metadata": {},
   "source": [
    "# Inport data"
   ]
  },
  {
   "cell_type": "code",
   "execution_count": 6,
   "id": "3a8f574e",
   "metadata": {},
   "outputs": [
    {
     "data": {
      "text/html": [
       "<div>\n",
       "<style scoped>\n",
       "    .dataframe tbody tr th:only-of-type {\n",
       "        vertical-align: middle;\n",
       "    }\n",
       "\n",
       "    .dataframe tbody tr th {\n",
       "        vertical-align: top;\n",
       "    }\n",
       "\n",
       "    .dataframe thead th {\n",
       "        text-align: right;\n",
       "    }\n",
       "</style>\n",
       "<table border=\"1\" class=\"dataframe\">\n",
       "  <thead>\n",
       "    <tr style=\"text-align: right;\">\n",
       "      <th></th>\n",
       "      <th>CATEGORY</th>\n",
       "      <th>MESSAGE</th>\n",
       "      <th>FILE_NAME</th>\n",
       "    </tr>\n",
       "  </thead>\n",
       "  <tbody>\n",
       "    <tr>\n",
       "      <th>0</th>\n",
       "      <td>1</td>\n",
       "      <td>Dear Homeowner,\\n\\n \\n\\nInterest Rates are at ...</td>\n",
       "      <td>00249.5f45607c1bffe89f60ba1ec9f878039a</td>\n",
       "    </tr>\n",
       "    <tr>\n",
       "      <th>1</th>\n",
       "      <td>1</td>\n",
       "      <td>ATTENTION: This is a MUST for ALL Computer Use...</td>\n",
       "      <td>00373.ebe8670ac56b04125c25100a36ab0510</td>\n",
       "    </tr>\n",
       "    <tr>\n",
       "      <th>2</th>\n",
       "      <td>1</td>\n",
       "      <td>This is a multi-part message in MIME format.\\n...</td>\n",
       "      <td>00214.1367039e50dc6b7adb0f2aa8aba83216</td>\n",
       "    </tr>\n",
       "    <tr>\n",
       "      <th>3</th>\n",
       "      <td>1</td>\n",
       "      <td>IMPORTANT INFORMATION:\\n\\n\\n\\nThe new domain n...</td>\n",
       "      <td>00210.050ffd105bd4e006771ee63cabc59978</td>\n",
       "    </tr>\n",
       "    <tr>\n",
       "      <th>4</th>\n",
       "      <td>1</td>\n",
       "      <td>This is the bottom line.  If you can GIVE AWAY...</td>\n",
       "      <td>00033.9babb58d9298daa2963d4f514193d7d6</td>\n",
       "    </tr>\n",
       "  </tbody>\n",
       "</table>\n",
       "</div>"
      ],
      "text/plain": [
       "   CATEGORY                                            MESSAGE  \\\n",
       "0         1  Dear Homeowner,\\n\\n \\n\\nInterest Rates are at ...   \n",
       "1         1  ATTENTION: This is a MUST for ALL Computer Use...   \n",
       "2         1  This is a multi-part message in MIME format.\\n...   \n",
       "3         1  IMPORTANT INFORMATION:\\n\\n\\n\\nThe new domain n...   \n",
       "4         1  This is the bottom line.  If you can GIVE AWAY...   \n",
       "\n",
       "                                FILE_NAME  \n",
       "0  00249.5f45607c1bffe89f60ba1ec9f878039a  \n",
       "1  00373.ebe8670ac56b04125c25100a36ab0510  \n",
       "2  00214.1367039e50dc6b7adb0f2aa8aba83216  \n",
       "3  00210.050ffd105bd4e006771ee63cabc59978  \n",
       "4  00033.9babb58d9298daa2963d4f514193d7d6  "
      ]
     },
     "execution_count": 6,
     "metadata": {},
     "output_type": "execute_result"
    }
   ],
   "source": [
    "df = pd.read_csv('Spam Email raw text for NLP.csv')\n",
    "df.head(5)"
   ]
  },
  {
   "cell_type": "code",
   "execution_count": 7,
   "id": "c034dc60",
   "metadata": {},
   "outputs": [
    {
     "name": "stderr",
     "output_type": "stream",
     "text": [
      "/home/hgong12/anaconda3/lib/python3.9/site-packages/seaborn/_decorators.py:36: FutureWarning: Pass the following variable as a keyword arg: x. From version 0.12, the only valid positional argument will be `data`, and passing other arguments without an explicit keyword will result in an error or misinterpretation.\n",
      "  warnings.warn(\n"
     ]
    },
    {
     "data": {
      "text/plain": [
       "<AxesSubplot:xlabel='CATEGORY', ylabel='count'>"
      ]
     },
     "execution_count": 7,
     "metadata": {},
     "output_type": "execute_result"
    },
    {
     "data": {
      "image/png": "[encoded data removed]",
      "text/plain": [
       "<Figure size 432x288 with 1 Axes>"
      ]
     },
     "metadata": {
      "needs_background": "light"
     },
     "output_type": "display_data"
    }
   ],
   "source": [
    "sns.countplot(df['CATEGORY'])"
   ]
  },
  {
   "cell_type": "markdown",
   "id": "4e575708",
   "metadata": {},
   "source": [
    "# Text cleaning"
   ]
  },
  {
   "cell_type": "code",
   "execution_count": 8,
   "id": "baa9e808",
   "metadata": {},
   "outputs": [],
   "source": [
    "def standardize_text(df, content_field):\n",
    "    df[content_field] = df[content_field].str.replace(r\"http\\S+\", \"\")\n",
    "    df[content_field] = df[content_field].str.replace(r\"http\", \"\")\n",
    "    df[content_field] = df[content_field].str.replace(r\"@\\S+\", \"\")\n",
    "    df[content_field] = df[content_field].str.replace(r\"[^A-Za-z0-9(),!?@\\'\\`\\\"\\_\\n]\", \" \")\n",
    "    df[content_field] = df[content_field].str.replace(r\"@\", \"at\")\n",
    "    df[content_field] = df[content_field].str.lower()\n",
    "    return df"
   ]
  },
  {
   "cell_type": "code",
   "execution_count": 9,
   "id": "a9acfdae",
   "metadata": {},
   "outputs": [
    {
     "name": "stderr",
     "output_type": "stream",
     "text": [
      "<ipython-input-8-0bf6e993cd07>:2: FutureWarning: The default value of regex will change from True to False in a future version.\n",
      "  df[content_field] = df[content_field].str.replace(r\"http\\S+\", \"\")\n",
      "<ipython-input-8-0bf6e993cd07>:4: FutureWarning: The default value of regex will change from True to False in a future version.\n",
      "  df[content_field] = df[content_field].str.replace(r\"@\\S+\", \"\")\n",
      "<ipython-input-8-0bf6e993cd07>:5: FutureWarning: The default value of regex will change from True to False in a future version.\n",
      "  df[content_field] = df[content_field].str.replace(r\"[^A-Za-z0-9(),!?@\\'\\`\\\"\\_\\n]\", \" \")\n"
     ]
    },
    {
     "data": {
      "text/html": [
       "<div>\n",
       "<style scoped>\n",
       "    .dataframe tbody tr th:only-of-type {\n",
       "        vertical-align: middle;\n",
       "    }\n",
       "\n",
       "    .dataframe tbody tr th {\n",
       "        vertical-align: top;\n",
       "    }\n",
       "\n",
       "    .dataframe thead th {\n",
       "        text-align: right;\n",
       "    }\n",
       "</style>\n",
       "<table border=\"1\" class=\"dataframe\">\n",
       "  <thead>\n",
       "    <tr style=\"text-align: right;\">\n",
       "      <th></th>\n",
       "      <th>CATEGORY</th>\n",
       "      <th>MESSAGE</th>\n",
       "      <th>FILE_NAME</th>\n",
       "    </tr>\n",
       "  </thead>\n",
       "  <tbody>\n",
       "    <tr>\n",
       "      <th>0</th>\n",
       "      <td>1</td>\n",
       "      <td>dear homeowner,\\n\\n \\n\\ninterest rates are at ...</td>\n",
       "      <td>00249.5f45607c1bffe89f60ba1ec9f878039a</td>\n",
       "    </tr>\n",
       "    <tr>\n",
       "      <th>1</th>\n",
       "      <td>1</td>\n",
       "      <td>attention  this is a must for all computer use...</td>\n",
       "      <td>00373.ebe8670ac56b04125c25100a36ab0510</td>\n",
       "    </tr>\n",
       "    <tr>\n",
       "      <th>2</th>\n",
       "      <td>1</td>\n",
       "      <td>this is a multi part message in mime format \\n...</td>\n",
       "      <td>00214.1367039e50dc6b7adb0f2aa8aba83216</td>\n",
       "    </tr>\n",
       "    <tr>\n",
       "      <th>3</th>\n",
       "      <td>1</td>\n",
       "      <td>important information \\n\\n\\n\\nthe new domain n...</td>\n",
       "      <td>00210.050ffd105bd4e006771ee63cabc59978</td>\n",
       "    </tr>\n",
       "    <tr>\n",
       "      <th>4</th>\n",
       "      <td>1</td>\n",
       "      <td>this is the bottom line   if you can give away...</td>\n",
       "      <td>00033.9babb58d9298daa2963d4f514193d7d6</td>\n",
       "    </tr>\n",
       "    <tr>\n",
       "      <th>...</th>\n",
       "      <td>...</td>\n",
       "      <td>...</td>\n",
       "      <td>...</td>\n",
       "    </tr>\n",
       "    <tr>\n",
       "      <th>5791</th>\n",
       "      <td>0</td>\n",
       "      <td>i'm one of the 30,000 but it's not working ver...</td>\n",
       "      <td>00609.dd49926ce94a1ea328cce9b62825bc97</td>\n",
       "    </tr>\n",
       "    <tr>\n",
       "      <th>5792</th>\n",
       "      <td>0</td>\n",
       "      <td>damien morton quoted \\n\\n w3c approves html 4 ...</td>\n",
       "      <td>00957.e0b56b117f3ec5f85e432a9d2a47801f</td>\n",
       "    </tr>\n",
       "    <tr>\n",
       "      <th>5793</th>\n",
       "      <td>0</td>\n",
       "      <td>on mon, 2002 07 22 at 06 50, che wrote \\n\\n\\n\\...</td>\n",
       "      <td>01127.841233b48eceb74a825417d8d918abf8</td>\n",
       "    </tr>\n",
       "    <tr>\n",
       "      <th>5794</th>\n",
       "      <td>0</td>\n",
       "      <td>once upon a time, manfred wrote  \\n\\n\\n\\n  i w...</td>\n",
       "      <td>01178.5c977dff972cd6eef64d4173b90307f0</td>\n",
       "    </tr>\n",
       "    <tr>\n",
       "      <th>5795</th>\n",
       "      <td>0</td>\n",
       "      <td>if you run pick, and then use the \"new ftoc\" b...</td>\n",
       "      <td>00747.352d424267d36975a7b40b85ffd0885e</td>\n",
       "    </tr>\n",
       "  </tbody>\n",
       "</table>\n",
       "<p>5796 rows × 3 columns</p>\n",
       "</div>"
      ],
      "text/plain": [
       "      CATEGORY                                            MESSAGE  \\\n",
       "0            1  dear homeowner,\\n\\n \\n\\ninterest rates are at ...   \n",
       "1            1  attention  this is a must for all computer use...   \n",
       "2            1  this is a multi part message in mime format \\n...   \n",
       "3            1  important information \\n\\n\\n\\nthe new domain n...   \n",
       "4            1  this is the bottom line   if you can give away...   \n",
       "...        ...                                                ...   \n",
       "5791         0  i'm one of the 30,000 but it's not working ver...   \n",
       "5792         0  damien morton quoted \\n\\n w3c approves html 4 ...   \n",
       "5793         0  on mon, 2002 07 22 at 06 50, che wrote \\n\\n\\n\\...   \n",
       "5794         0  once upon a time, manfred wrote  \\n\\n\\n\\n  i w...   \n",
       "5795         0  if you run pick, and then use the \"new ftoc\" b...   \n",
       "\n",
       "                                   FILE_NAME  \n",
       "0     00249.5f45607c1bffe89f60ba1ec9f878039a  \n",
       "1     00373.ebe8670ac56b04125c25100a36ab0510  \n",
       "2     00214.1367039e50dc6b7adb0f2aa8aba83216  \n",
       "3     00210.050ffd105bd4e006771ee63cabc59978  \n",
       "4     00033.9babb58d9298daa2963d4f514193d7d6  \n",
       "...                                      ...  \n",
       "5791  00609.dd49926ce94a1ea328cce9b62825bc97  \n",
       "5792  00957.e0b56b117f3ec5f85e432a9d2a47801f  \n",
       "5793  01127.841233b48eceb74a825417d8d918abf8  \n",
       "5794  01178.5c977dff972cd6eef64d4173b90307f0  \n",
       "5795  00747.352d424267d36975a7b40b85ffd0885e  \n",
       "\n",
       "[5796 rows x 3 columns]"
      ]
     },
     "execution_count": 9,
     "metadata": {},
     "output_type": "execute_result"
    }
   ],
   "source": [
    "standardize_text(df,\"MESSAGE\")"
   ]
  },
  {
   "cell_type": "code",
   "execution_count": 12,
   "id": "5141788f",
   "metadata": {},
   "outputs": [
    {
     "name": "stderr",
     "output_type": "stream",
     "text": [
      "[nltk_data] Downloading package stopwords to\n",
      "[nltk_data]     /home/hgong12/nltk_data...\n",
      "[nltk_data]   Package stopwords is already up-to-date!\n",
      "[nltk_data] Downloading package wordnet to /home/hgong12/nltk_data...\n",
      "[nltk_data]   Unzipping corpora/wordnet.zip.\n"
     ]
    }
   ],
   "source": [
    "import re\n",
    "import nltk\n",
    "nltk.download(\"stopwords\")\n",
    "nltk.download('wordnet')\n",
    "from nltk.corpus import stopwords\n",
    "from nltk.stem.wordnet import WordNetLemmatizer"
   ]
  },
  {
   "cell_type": "code",
   "execution_count": 13,
   "id": "83f6c284",
   "metadata": {},
   "outputs": [],
   "source": [
    "lemmatizer = WordNetLemmatizer()\n",
    "corpus = []\n",
    "\n",
    "for i in range(0, len(df)):\n",
    "    message = re.sub('[^a-zA-Z]', ' ', df['MESSAGE'][i])\n",
    "    message = message.split()\n",
    "    message =[word for word in message if not word in set(stopwords.words('english'))]\n",
    "    message = [lemmatizer.lemmatize(word) for word in message]\n",
    "    message = ' '.join(message)\n",
    "    corpus.append(message)"
   ]
  },
  {
   "cell_type": "code",
   "execution_count": 14,
   "id": "260d9bac",
   "metadata": {},
   "outputs": [
    {
     "data": {
      "text/plain": [
       "'dear homeowner interest rate lowest point year help find best rate situation matching need hundred lender home improvement refinance second mortgage home equity loan even le perfect credit service free home owner new home buyer without obligation fill quick simple form jump start future plan today visit unsubscribe please visit'"
      ]
     },
     "execution_count": 14,
     "metadata": {},
     "output_type": "execute_result"
    }
   ],
   "source": [
    "corpus[0]"
   ]
  },
  {
   "cell_type": "markdown",
   "id": "c4b9193e",
   "metadata": {},
   "source": [
    "# Train-test split"
   ]
  },
  {
   "cell_type": "code",
   "execution_count": 114,
   "id": "135e7d5f",
   "metadata": {},
   "outputs": [],
   "source": [
    "y = df[\"CATEGORY\"]"
   ]
  },
  {
   "cell_type": "code",
   "execution_count": 115,
   "id": "fd8a95c6",
   "metadata": {},
   "outputs": [],
   "source": [
    "from sklearn.model_selection import train_test_split\n",
    "X_train, X_test, y_train, y_test = train_test_split(corpus, y, test_size=0.2, random_state=42)"
   ]
  },
  {
   "cell_type": "code",
   "execution_count": 116,
   "id": "bd5599e8",
   "metadata": {},
   "outputs": [
    {
     "data": {
      "text/plain": [
       "(4636, 1160)"
      ]
     },
     "execution_count": 116,
     "metadata": {},
     "output_type": "execute_result"
    }
   ],
   "source": [
    "len(X_train), len(X_test)"
   ]
  },
  {
   "cell_type": "markdown",
   "id": "95776060",
   "metadata": {},
   "source": [
    "# BERT model feature extraction"
   ]
  },
  {
   "cell_type": "code",
   "execution_count": 19,
   "id": "381ed3b7",
   "metadata": {},
   "outputs": [
    {
     "name": "stderr",
     "output_type": "stream",
     "text": [
      "Some weights of the model checkpoint at bert-base-uncased were not used when initializing BertModel: ['cls.predictions.decoder.weight', 'cls.seq_relationship.bias', 'cls.predictions.bias', 'cls.predictions.transform.dense.weight', 'cls.predictions.transform.LayerNorm.bias', 'cls.predictions.transform.dense.bias', 'cls.seq_relationship.weight', 'cls.predictions.transform.LayerNorm.weight']\n",
      "- This IS expected if you are initializing BertModel from the checkpoint of a model trained on another task or with another architecture (e.g. initializing a BertForSequenceClassification model from a BertForPreTraining model).\n",
      "- This IS NOT expected if you are initializing BertModel from the checkpoint of a model that you expect to be exactly identical (initializing a BertForSequenceClassification model from a BertForSequenceClassification model).\n"
     ]
    }
   ],
   "source": [
    "from transformers import BertTokenizer, BertModel, BertConfig\n",
    "import torch\n",
    "\n",
    "tokenizer = BertTokenizer.from_pretrained(\"bert-base-uncased\")\n",
    "config = BertConfig.from_pretrained(\"bert-base-uncased\", output_hidden_states=True)\n",
    "model = BertModel.from_pretrained(\"bert-base-uncased\", config=config)"
   ]
  },
  {
   "cell_type": "markdown",
   "id": "5f9a7100",
   "metadata": {},
   "source": [
    "## Training set"
   ]
  },
  {
   "cell_type": "code",
   "execution_count": 20,
   "id": "3987145b",
   "metadata": {},
   "outputs": [],
   "source": [
    "df_train = pd.DataFrame()\n",
    "df_train['category'] = y_train\n",
    "df_train.reset_index(drop=True, inplace=True)\n",
    "df_train['id'] = [i for i in range(len(df_train))]\n",
    "df_train['text'] = X_train"
   ]
  },
  {
   "cell_type": "code",
   "execution_count": 21,
   "id": "a63e8816",
   "metadata": {},
   "outputs": [
    {
     "name": "stderr",
     "output_type": "stream",
     "text": [
      "Token indices sequence length is longer than the specified maximum sequence length for this model (1200 > 512). Running this sequence through the model will result in indexing errors\n"
     ]
    }
   ],
   "source": [
    "df_train['input_ids'] = df_train['text'].apply(lambda x: tokenizer(x)['input_ids'][1:-1])\n",
    "df_train['len'] = df_train['input_ids'].apply(lambda x: len(x))"
   ]
  },
  {
   "cell_type": "code",
   "execution_count": 22,
   "id": "eb0655d3",
   "metadata": {},
   "outputs": [
    {
     "data": {
      "text/html": [
       "<div>\n",
       "<style scoped>\n",
       "    .dataframe tbody tr th:only-of-type {\n",
       "        vertical-align: middle;\n",
       "    }\n",
       "\n",
       "    .dataframe tbody tr th {\n",
       "        vertical-align: top;\n",
       "    }\n",
       "\n",
       "    .dataframe thead th {\n",
       "        text-align: right;\n",
       "    }\n",
       "</style>\n",
       "<table border=\"1\" class=\"dataframe\">\n",
       "  <thead>\n",
       "    <tr style=\"text-align: right;\">\n",
       "      <th></th>\n",
       "      <th>category</th>\n",
       "      <th>id</th>\n",
       "      <th>text</th>\n",
       "      <th>input_ids</th>\n",
       "      <th>len</th>\n",
       "    </tr>\n",
       "  </thead>\n",
       "  <tbody>\n",
       "    <tr>\n",
       "      <th>0</th>\n",
       "      <td>0</td>\n",
       "      <td>0</td>\n",
       "      <td>j joseph barrera joseph writes j fine fork pie...</td>\n",
       "      <td>[1046, 3312, 23189, 2527, 3312, 7009, 1046, 29...</td>\n",
       "      <td>59</td>\n",
       "    </tr>\n",
       "    <tr>\n",
       "      <th>1</th>\n",
       "      <td>1</td>\n",
       "      <td>1</td>\n",
       "      <td>dear friend mr sese seko widow late president ...</td>\n",
       "      <td>[6203, 2767, 2720, 7367, 3366, 7367, 3683, 779...</td>\n",
       "      <td>264</td>\n",
       "    </tr>\n",
       "    <tr>\n",
       "      <th>2</th>\n",
       "      <td>1</td>\n",
       "      <td>2</td>\n",
       "      <td>dear zzzz c cbody bgcolor ffccff e ctable bord...</td>\n",
       "      <td>[6203, 1062, 13213, 2480, 1039, 17324, 7716, 2...</td>\n",
       "      <td>1198</td>\n",
       "    </tr>\n",
       "    <tr>\n",
       "      <th>3</th>\n",
       "      <td>1</td>\n",
       "      <td>3</td>\n",
       "      <td>insight news alert new issue insight news onli...</td>\n",
       "      <td>[12369, 2739, 9499, 2047, 3277, 12369, 2739, 3...</td>\n",
       "      <td>459</td>\n",
       "    </tr>\n",
       "    <tr>\n",
       "      <th>4</th>\n",
       "      <td>0</td>\n",
       "      <td>4</td>\n",
       "      <td>use perl daily headline mailer damian conway p...</td>\n",
       "      <td>[2224, 2566, 2140, 3679, 17653, 5653, 2121, 19...</td>\n",
       "      <td>63</td>\n",
       "    </tr>\n",
       "  </tbody>\n",
       "</table>\n",
       "</div>"
      ],
      "text/plain": [
       "   category  id                                               text  \\\n",
       "0         0   0  j joseph barrera joseph writes j fine fork pie...   \n",
       "1         1   1  dear friend mr sese seko widow late president ...   \n",
       "2         1   2  dear zzzz c cbody bgcolor ffccff e ctable bord...   \n",
       "3         1   3  insight news alert new issue insight news onli...   \n",
       "4         0   4  use perl daily headline mailer damian conway p...   \n",
       "\n",
       "                                           input_ids   len  \n",
       "0  [1046, 3312, 23189, 2527, 3312, 7009, 1046, 29...    59  \n",
       "1  [6203, 2767, 2720, 7367, 3366, 7367, 3683, 779...   264  \n",
       "2  [6203, 1062, 13213, 2480, 1039, 17324, 7716, 2...  1198  \n",
       "3  [12369, 2739, 9499, 2047, 3277, 12369, 2739, 3...   459  \n",
       "4  [2224, 2566, 2140, 3679, 17653, 5653, 2121, 19...    63  "
      ]
     },
     "execution_count": 22,
     "metadata": {},
     "output_type": "execute_result"
    }
   ],
   "source": [
    "df_train.head(5)"
   ]
  },
  {
   "cell_type": "code",
   "execution_count": 23,
   "id": "07c392fd",
   "metadata": {},
   "outputs": [
    {
     "data": {
      "image/png": "[encoded data removed]",
      "text/plain": [
       "<Figure size 432x288 with 1 Axes>"
      ]
     },
     "metadata": {
      "needs_background": "light"
     },
     "output_type": "display_data"
    }
   ],
   "source": [
    "plt.hist(df_train['len'], bins=100)\n",
    "plt.show()"
   ]
  },
  {
   "cell_type": "code",
   "execution_count": 24,
   "id": "b2310a9f",
   "metadata": {},
   "outputs": [],
   "source": [
    "# chrunk 510 length of tokens (overlapping length can be adjusted)\n",
    "def truncate(df, trunk_len=510, overlap_len=0):\n",
    "    want = pd.DataFrame({'id':[], 'input_ids_trunc':[]})\n",
    "    for i in range(len(df)):\n",
    "        length = df['len'][i]\n",
    "        n = int(np.ceil(length/(trunk_len-overlap_len)))\n",
    "        for j in range(n):\n",
    "            tok = [101]\n",
    "            tok += df['input_ids'][i][j*(trunk_len-overlap_len): \n",
    "                                 j*(trunk_len-overlap_len)+trunk_len]\n",
    "            tok += [102]\n",
    "            want = want.append({\n",
    "                'input_ids_trunc': tok,\n",
    "                'id': df['id'][i]}, ignore_index=True)\n",
    "    return want"
   ]
  },
  {
   "cell_type": "code",
   "execution_count": 25,
   "id": "16fb9a49",
   "metadata": {},
   "outputs": [],
   "source": [
    "df_train_trunked = truncate(df_train, trunk_len=510, overlap_len=110)\n",
    "df_train_trunked['len'] = df_train_trunked['input_ids_trunc'].apply(lambda x: len(x))\n",
    "df_train_trunked['id'] = df_train_trunked['id'].apply(lambda x: int(x))"
   ]
  },
  {
   "cell_type": "code",
   "execution_count": 136,
   "id": "47835bc9",
   "metadata": {},
   "outputs": [],
   "source": [
    "def get_cls_output_list_gpu(df_train_trunked):\n",
    "    model.to(device)\n",
    "    model.eval()\n",
    "    \n",
    "    cls_output_list = []\n",
    "    for i in tqdm(range(len(df_train_trunked))):\n",
    "        input_ids = df_train_trunked['input_ids_trunc'][i]\n",
    "        token_type_ids = [0] * len(input_ids)\n",
    "        attention_mask = [1] * len(input_ids)\n",
    "\n",
    "        input_ids = torch.tensor([input_ids]).to(device)\n",
    "        token_type_ids = torch.tensor([token_type_ids]).to(device)\n",
    "        attention_mask = torch.tensor([attention_mask]).to(device)\n",
    "        \n",
    "        with torch.no_grad():\n",
    "        # model(**input_dict) is the output\n",
    "        # output[0] is the last hidden states, get another [0] is reducing dimension\n",
    "        # cls_output is the first token\n",
    "            cls_output = model(input_ids, token_type_ids, attention_mask)[0][0][0].cpu().numpy()\n",
    "            cls_output_list.append(cls_output)\n",
    "        \n",
    "    return cls_output_list\n",
    "# how to get the last hidden state from BERT \n",
    "# https://github.com/huggingface/transformers/issues/1827"
   ]
  },
  {
   "cell_type": "code",
   "execution_count": 37,
   "id": "16d15682",
   "metadata": {},
   "outputs": [],
   "source": [
    "def get_cls_output_list_cpu(df_train_trunked):\n",
    "    cls_output_list = []\n",
    "    for i in tqdm(range(len(df_train_trunked))):\n",
    "        input_ids = df_train_trunked['input_ids_trunc'][i]\n",
    "        token_type_ids = [0] * len(input_ids)\n",
    "        attention_mask = [1] * len(input_ids)\n",
    "\n",
    "        input_dict = {}\n",
    "        input_dict['input_ids'] = torch.tensor([input_ids])\n",
    "        input_dict['token_type_ids'] = torch.tensor([token_type_ids])\n",
    "        input_dict['attention_mask'] = torch.tensor([attention_mask])\n",
    "        \n",
    "        # model(**input_dict) is the output\n",
    "        # output[0] is the last hidden states, get another [0] is reducing dimension\n",
    "        # cls_output is the first token\n",
    "        cls_output = model(**input_dict)[0][0][0].numpy()\n",
    "        cls_output_list.append(cls_output)\n",
    "        \n",
    "    return cls_output_list\n",
    "# how to get the last hidden state from BERT \n",
    "# https://github.com/huggingface/transformers/issues/1827"
   ]
  },
  {
   "cell_type": "code",
   "execution_count": 137,
   "id": "e1c3f196",
   "metadata": {
    "scrolled": true
   },
   "outputs": [
    {
     "name": "stderr",
     "output_type": "stream",
     "text": [
      "100%|██████████| 8042/8042 [01:45<00:00, 76.19it/s]\n"
     ]
    }
   ],
   "source": [
    "cls_output_list = get_cls_output_list_gpu(df_train_trunked)"
   ]
  },
  {
   "cell_type": "code",
   "execution_count": 138,
   "id": "3d3f2c3b",
   "metadata": {},
   "outputs": [],
   "source": [
    "df_train_trunked['cls_output'] = cls_output_list"
   ]
  },
  {
   "cell_type": "code",
   "execution_count": 139,
   "id": "82e14bff",
   "metadata": {},
   "outputs": [
    {
     "data": {
      "text/html": [
       "<div>\n",
       "<style scoped>\n",
       "    .dataframe tbody tr th:only-of-type {\n",
       "        vertical-align: middle;\n",
       "    }\n",
       "\n",
       "    .dataframe tbody tr th {\n",
       "        vertical-align: top;\n",
       "    }\n",
       "\n",
       "    .dataframe thead th {\n",
       "        text-align: right;\n",
       "    }\n",
       "</style>\n",
       "<table border=\"1\" class=\"dataframe\">\n",
       "  <thead>\n",
       "    <tr style=\"text-align: right;\">\n",
       "      <th></th>\n",
       "      <th>id</th>\n",
       "      <th>input_ids_trunc</th>\n",
       "      <th>len</th>\n",
       "      <th>cls_output</th>\n",
       "    </tr>\n",
       "  </thead>\n",
       "  <tbody>\n",
       "    <tr>\n",
       "      <th>0</th>\n",
       "      <td>0</td>\n",
       "      <td>[101, 1046, 3312, 23189, 2527, 3312, 7009, 104...</td>\n",
       "      <td>61</td>\n",
       "      <td>[-0.25802734, 0.459538, 0.18791308, 0.18568842...</td>\n",
       "    </tr>\n",
       "    <tr>\n",
       "      <th>1</th>\n",
       "      <td>1</td>\n",
       "      <td>[101, 6203, 2767, 2720, 7367, 3366, 7367, 3683...</td>\n",
       "      <td>266</td>\n",
       "      <td>[-0.492636, 0.2851513, 0.41103062, -0.0676382,...</td>\n",
       "    </tr>\n",
       "    <tr>\n",
       "      <th>2</th>\n",
       "      <td>2</td>\n",
       "      <td>[101, 6203, 1062, 13213, 2480, 1039, 17324, 77...</td>\n",
       "      <td>512</td>\n",
       "      <td>[-0.64157665, 0.038553566, 0.40967038, 0.14246...</td>\n",
       "    </tr>\n",
       "    <tr>\n",
       "      <th>3</th>\n",
       "      <td>2</td>\n",
       "      <td>[101, 1041, 12935, 12162, 3609, 21461, 25212, ...</td>\n",
       "      <td>512</td>\n",
       "      <td>[-1.0326445, 0.1232555, 0.2323305, 0.21684843,...</td>\n",
       "    </tr>\n",
       "    <tr>\n",
       "      <th>4</th>\n",
       "      <td>2</td>\n",
       "      <td>[101, 1038, 1050, 5910, 2361, 1038, 1050, 5910...</td>\n",
       "      <td>400</td>\n",
       "      <td>[-0.9115936, 0.2063725, -0.28147653, 0.3136617...</td>\n",
       "    </tr>\n",
       "  </tbody>\n",
       "</table>\n",
       "</div>"
      ],
      "text/plain": [
       "   id                                    input_ids_trunc  len  \\\n",
       "0   0  [101, 1046, 3312, 23189, 2527, 3312, 7009, 104...   61   \n",
       "1   1  [101, 6203, 2767, 2720, 7367, 3366, 7367, 3683...  266   \n",
       "2   2  [101, 6203, 1062, 13213, 2480, 1039, 17324, 77...  512   \n",
       "3   2  [101, 1041, 12935, 12162, 3609, 21461, 25212, ...  512   \n",
       "4   2  [101, 1038, 1050, 5910, 2361, 1038, 1050, 5910...  400   \n",
       "\n",
       "                                          cls_output  \n",
       "0  [-0.25802734, 0.459538, 0.18791308, 0.18568842...  \n",
       "1  [-0.492636, 0.2851513, 0.41103062, -0.0676382,...  \n",
       "2  [-0.64157665, 0.038553566, 0.40967038, 0.14246...  \n",
       "3  [-1.0326445, 0.1232555, 0.2323305, 0.21684843,...  \n",
       "4  [-0.9115936, 0.2063725, -0.28147653, 0.3136617...  "
      ]
     },
     "execution_count": 139,
     "metadata": {},
     "output_type": "execute_result"
    }
   ],
   "source": [
    "df_train_trunked.head(5)"
   ]
  },
  {
   "cell_type": "code",
   "execution_count": 140,
   "id": "0bdff2dd",
   "metadata": {},
   "outputs": [],
   "source": [
    "# get max pooling for each ID\n",
    "keys = np.array(df_train_trunked['id'])\n",
    "vals = np.asarray(cls_output_list)\n",
    "array_grouped_dict_train = {key: vals[keys == key] for key in np.unique(keys)}\n",
    "for key in array_grouped_dict_train:\n",
    "    array_grouped_dict_train[key] = array_grouped_dict_train[key].mean(axis=0)"
   ]
  },
  {
   "cell_type": "code",
   "execution_count": 141,
   "id": "0be81af2",
   "metadata": {},
   "outputs": [],
   "source": [
    "df_train['vector'] = df_train['id'].map(array_grouped_dict_train)"
   ]
  },
  {
   "cell_type": "code",
   "execution_count": 142,
   "id": "426eaa6b",
   "metadata": {},
   "outputs": [
    {
     "data": {
      "text/html": [
       "<div>\n",
       "<style scoped>\n",
       "    .dataframe tbody tr th:only-of-type {\n",
       "        vertical-align: middle;\n",
       "    }\n",
       "\n",
       "    .dataframe tbody tr th {\n",
       "        vertical-align: top;\n",
       "    }\n",
       "\n",
       "    .dataframe thead th {\n",
       "        text-align: right;\n",
       "    }\n",
       "</style>\n",
       "<table border=\"1\" class=\"dataframe\">\n",
       "  <thead>\n",
       "    <tr style=\"text-align: right;\">\n",
       "      <th></th>\n",
       "      <th>category</th>\n",
       "      <th>id</th>\n",
       "      <th>text</th>\n",
       "      <th>input_ids</th>\n",
       "      <th>len</th>\n",
       "      <th>vector</th>\n",
       "    </tr>\n",
       "  </thead>\n",
       "  <tbody>\n",
       "    <tr>\n",
       "      <th>0</th>\n",
       "      <td>0</td>\n",
       "      <td>0</td>\n",
       "      <td>j joseph barrera joseph writes j fine fork pie...</td>\n",
       "      <td>[1046, 3312, 23189, 2527, 3312, 7009, 1046, 29...</td>\n",
       "      <td>59</td>\n",
       "      <td>[-0.25802734, 0.459538, 0.18791308, 0.18568842...</td>\n",
       "    </tr>\n",
       "    <tr>\n",
       "      <th>1</th>\n",
       "      <td>1</td>\n",
       "      <td>1</td>\n",
       "      <td>dear friend mr sese seko widow late president ...</td>\n",
       "      <td>[6203, 2767, 2720, 7367, 3366, 7367, 3683, 779...</td>\n",
       "      <td>264</td>\n",
       "      <td>[-0.492636, 0.2851513, 0.41103062, -0.0676382,...</td>\n",
       "    </tr>\n",
       "    <tr>\n",
       "      <th>2</th>\n",
       "      <td>1</td>\n",
       "      <td>2</td>\n",
       "      <td>dear zzzz c cbody bgcolor ffccff e ctable bord...</td>\n",
       "      <td>[6203, 1062, 13213, 2480, 1039, 17324, 7716, 2...</td>\n",
       "      <td>1198</td>\n",
       "      <td>[-0.86193824, 0.122727185, 0.120174795, 0.2243...</td>\n",
       "    </tr>\n",
       "    <tr>\n",
       "      <th>3</th>\n",
       "      <td>1</td>\n",
       "      <td>3</td>\n",
       "      <td>insight news alert new issue insight news onli...</td>\n",
       "      <td>[12369, 2739, 9499, 2047, 3277, 12369, 2739, 3...</td>\n",
       "      <td>459</td>\n",
       "      <td>[-0.38687897, -0.046124548, 0.041686356, 0.058...</td>\n",
       "    </tr>\n",
       "    <tr>\n",
       "      <th>4</th>\n",
       "      <td>0</td>\n",
       "      <td>4</td>\n",
       "      <td>use perl daily headline mailer damian conway p...</td>\n",
       "      <td>[2224, 2566, 2140, 3679, 17653, 5653, 2121, 19...</td>\n",
       "      <td>63</td>\n",
       "      <td>[-0.19225617, 0.049564634, -0.41233602, -0.067...</td>\n",
       "    </tr>\n",
       "  </tbody>\n",
       "</table>\n",
       "</div>"
      ],
      "text/plain": [
       "   category  id                                               text  \\\n",
       "0         0   0  j joseph barrera joseph writes j fine fork pie...   \n",
       "1         1   1  dear friend mr sese seko widow late president ...   \n",
       "2         1   2  dear zzzz c cbody bgcolor ffccff e ctable bord...   \n",
       "3         1   3  insight news alert new issue insight news onli...   \n",
       "4         0   4  use perl daily headline mailer damian conway p...   \n",
       "\n",
       "                                           input_ids   len  \\\n",
       "0  [1046, 3312, 23189, 2527, 3312, 7009, 1046, 29...    59   \n",
       "1  [6203, 2767, 2720, 7367, 3366, 7367, 3683, 779...   264   \n",
       "2  [6203, 1062, 13213, 2480, 1039, 17324, 7716, 2...  1198   \n",
       "3  [12369, 2739, 9499, 2047, 3277, 12369, 2739, 3...   459   \n",
       "4  [2224, 2566, 2140, 3679, 17653, 5653, 2121, 19...    63   \n",
       "\n",
       "                                              vector  \n",
       "0  [-0.25802734, 0.459538, 0.18791308, 0.18568842...  \n",
       "1  [-0.492636, 0.2851513, 0.41103062, -0.0676382,...  \n",
       "2  [-0.86193824, 0.122727185, 0.120174795, 0.2243...  \n",
       "3  [-0.38687897, -0.046124548, 0.041686356, 0.058...  \n",
       "4  [-0.19225617, 0.049564634, -0.41233602, -0.067...  "
      ]
     },
     "execution_count": 142,
     "metadata": {},
     "output_type": "execute_result"
    }
   ],
   "source": [
    "df_train.head(5)"
   ]
  },
  {
   "cell_type": "markdown",
   "id": "8d97b03c",
   "metadata": {},
   "source": [
    "## Testing set"
   ]
  },
  {
   "cell_type": "code",
   "execution_count": 117,
   "id": "ff8b463b",
   "metadata": {},
   "outputs": [],
   "source": [
    "df_test = pd.DataFrame()\n",
    "df_test['category'] = y_test\n",
    "df_test.reset_index(drop=True, inplace=True)\n",
    "df_test['id'] = [i for i in range(len(df_test))]\n",
    "df_test['text'] = X_test"
   ]
  },
  {
   "cell_type": "code",
   "execution_count": 118,
   "id": "abe27932",
   "metadata": {},
   "outputs": [],
   "source": [
    "df_test['input_ids'] = df_test['text'].apply(lambda x: tokenizer(x)['input_ids'][1:-1])\n",
    "df_test['len'] = df_test['input_ids'].apply(lambda x: len(x))"
   ]
  },
  {
   "cell_type": "code",
   "execution_count": 119,
   "id": "b53102af",
   "metadata": {},
   "outputs": [
    {
     "data": {
      "text/html": [
       "<div>\n",
       "<style scoped>\n",
       "    .dataframe tbody tr th:only-of-type {\n",
       "        vertical-align: middle;\n",
       "    }\n",
       "\n",
       "    .dataframe tbody tr th {\n",
       "        vertical-align: top;\n",
       "    }\n",
       "\n",
       "    .dataframe thead th {\n",
       "        text-align: right;\n",
       "    }\n",
       "</style>\n",
       "<table border=\"1\" class=\"dataframe\">\n",
       "  <thead>\n",
       "    <tr style=\"text-align: right;\">\n",
       "      <th></th>\n",
       "      <th>category</th>\n",
       "      <th>id</th>\n",
       "      <th>text</th>\n",
       "      <th>input_ids</th>\n",
       "      <th>len</th>\n",
       "    </tr>\n",
       "  </thead>\n",
       "  <tbody>\n",
       "    <tr>\n",
       "      <th>0</th>\n",
       "      <td>0</td>\n",
       "      <td>0</td>\n",
       "      <td>could try httrack available recursive grab stu...</td>\n",
       "      <td>[2071, 3046, 1044, 4779, 22648, 2243, 2800, 28...</td>\n",
       "      <td>32</td>\n",
       "    </tr>\n",
       "    <tr>\n",
       "      <th>1</th>\n",
       "      <td>0</td>\n",
       "      <td>1</td>\n",
       "      <td>adam l beberg wrote creator didnt say could wi...</td>\n",
       "      <td>[4205, 1048, 2022, 4059, 2626, 8543, 2134, 210...</td>\n",
       "      <td>130</td>\n",
       "    </tr>\n",
       "    <tr>\n",
       "      <th>2</th>\n",
       "      <td>0</td>\n",
       "      <td>2</td>\n",
       "      <td>gary lawrence murphy wrote say hello cool oooo...</td>\n",
       "      <td>[5639, 5623, 7104, 2626, 2360, 7592, 4658, 105...</td>\n",
       "      <td>233</td>\n",
       "    </tr>\n",
       "    <tr>\n",
       "      <th>3</th>\n",
       "      <td>0</td>\n",
       "      <td>3</td>\n",
       "      <td>wasnt even though spellingis oddly familar new...</td>\n",
       "      <td>[2347, 2102, 2130, 2295, 11379, 2483, 15056, 6...</td>\n",
       "      <td>146</td>\n",
       "    </tr>\n",
       "    <tr>\n",
       "      <th>4</th>\n",
       "      <td>0</td>\n",
       "      <td>4</td>\n",
       "      <td>gary murphy intend take legal violent action p...</td>\n",
       "      <td>[5639, 7104, 13566, 2202, 3423, 6355, 2895, 21...</td>\n",
       "      <td>210</td>\n",
       "    </tr>\n",
       "  </tbody>\n",
       "</table>\n",
       "</div>"
      ],
      "text/plain": [
       "   category  id                                               text  \\\n",
       "0         0   0  could try httrack available recursive grab stu...   \n",
       "1         0   1  adam l beberg wrote creator didnt say could wi...   \n",
       "2         0   2  gary lawrence murphy wrote say hello cool oooo...   \n",
       "3         0   3  wasnt even though spellingis oddly familar new...   \n",
       "4         0   4  gary murphy intend take legal violent action p...   \n",
       "\n",
       "                                           input_ids  len  \n",
       "0  [2071, 3046, 1044, 4779, 22648, 2243, 2800, 28...   32  \n",
       "1  [4205, 1048, 2022, 4059, 2626, 8543, 2134, 210...  130  \n",
       "2  [5639, 5623, 7104, 2626, 2360, 7592, 4658, 105...  233  \n",
       "3  [2347, 2102, 2130, 2295, 11379, 2483, 15056, 6...  146  \n",
       "4  [5639, 7104, 13566, 2202, 3423, 6355, 2895, 21...  210  "
      ]
     },
     "execution_count": 119,
     "metadata": {},
     "output_type": "execute_result"
    }
   ],
   "source": [
    "df_test.head(5)"
   ]
  },
  {
   "cell_type": "code",
   "execution_count": 120,
   "id": "4631f57f",
   "metadata": {},
   "outputs": [
    {
     "data": {
      "image/png": "[encoded data removed]",
      "text/plain": [
       "<Figure size 432x288 with 1 Axes>"
      ]
     },
     "metadata": {
      "needs_background": "light"
     },
     "output_type": "display_data"
    }
   ],
   "source": [
    "plt.hist(df_train['len'], bins=100)\n",
    "plt.show()"
   ]
  },
  {
   "cell_type": "code",
   "execution_count": 121,
   "id": "cdbff8b9",
   "metadata": {},
   "outputs": [],
   "source": [
    "df_test_trunked = truncate(df_test, trunk_len=510, overlap_len=110)\n",
    "df_test_trunked['len'] = df_test_trunked['input_ids_trunc'].apply(lambda x: len(x))\n",
    "df_test_trunked['id'] = df_test_trunked['id'].apply(lambda x: int(x))"
   ]
  },
  {
   "cell_type": "code",
   "execution_count": 143,
   "id": "14ff01dc",
   "metadata": {},
   "outputs": [
    {
     "name": "stderr",
     "output_type": "stream",
     "text": [
      "100%|██████████| 1846/1846 [00:24<00:00, 76.27it/s]\n"
     ]
    }
   ],
   "source": [
    "cls_output_list = get_cls_output_list_gpu(df_test_trunked)"
   ]
  },
  {
   "cell_type": "code",
   "execution_count": 144,
   "id": "34ef7347",
   "metadata": {},
   "outputs": [],
   "source": [
    "df_test_trunked['cls_output'] = cls_output_list"
   ]
  },
  {
   "cell_type": "code",
   "execution_count": 145,
   "id": "c61e266b",
   "metadata": {},
   "outputs": [
    {
     "data": {
      "text/html": [
       "<div>\n",
       "<style scoped>\n",
       "    .dataframe tbody tr th:only-of-type {\n",
       "        vertical-align: middle;\n",
       "    }\n",
       "\n",
       "    .dataframe tbody tr th {\n",
       "        vertical-align: top;\n",
       "    }\n",
       "\n",
       "    .dataframe thead th {\n",
       "        text-align: right;\n",
       "    }\n",
       "</style>\n",
       "<table border=\"1\" class=\"dataframe\">\n",
       "  <thead>\n",
       "    <tr style=\"text-align: right;\">\n",
       "      <th></th>\n",
       "      <th>id</th>\n",
       "      <th>input_ids_trunc</th>\n",
       "      <th>len</th>\n",
       "      <th>cls_output</th>\n",
       "    </tr>\n",
       "  </thead>\n",
       "  <tbody>\n",
       "    <tr>\n",
       "      <th>0</th>\n",
       "      <td>0</td>\n",
       "      <td>[101, 2071, 3046, 1044, 4779, 22648, 2243, 280...</td>\n",
       "      <td>34</td>\n",
       "      <td>[-0.44594392, 0.06953239, 0.046528567, 0.40067...</td>\n",
       "    </tr>\n",
       "    <tr>\n",
       "      <th>1</th>\n",
       "      <td>1</td>\n",
       "      <td>[101, 4205, 1048, 2022, 4059, 2626, 8543, 2134...</td>\n",
       "      <td>132</td>\n",
       "      <td>[-0.07137385, 0.1835863, 0.37147498, 0.2137879...</td>\n",
       "    </tr>\n",
       "    <tr>\n",
       "      <th>2</th>\n",
       "      <td>2</td>\n",
       "      <td>[101, 5639, 5623, 7104, 2626, 2360, 7592, 4658...</td>\n",
       "      <td>235</td>\n",
       "      <td>[-0.52994, 0.16760735, 0.36706507, 0.23636337,...</td>\n",
       "    </tr>\n",
       "    <tr>\n",
       "      <th>3</th>\n",
       "      <td>3</td>\n",
       "      <td>[101, 2347, 2102, 2130, 2295, 11379, 2483, 150...</td>\n",
       "      <td>148</td>\n",
       "      <td>[-0.5394836, 0.22984922, 0.32722324, 0.0394827...</td>\n",
       "    </tr>\n",
       "    <tr>\n",
       "      <th>4</th>\n",
       "      <td>4</td>\n",
       "      <td>[101, 5639, 7104, 13566, 2202, 3423, 6355, 289...</td>\n",
       "      <td>212</td>\n",
       "      <td>[-0.39268383, 0.33426964, 0.44466457, -0.14385...</td>\n",
       "    </tr>\n",
       "  </tbody>\n",
       "</table>\n",
       "</div>"
      ],
      "text/plain": [
       "   id                                    input_ids_trunc  len  \\\n",
       "0   0  [101, 2071, 3046, 1044, 4779, 22648, 2243, 280...   34   \n",
       "1   1  [101, 4205, 1048, 2022, 4059, 2626, 8543, 2134...  132   \n",
       "2   2  [101, 5639, 5623, 7104, 2626, 2360, 7592, 4658...  235   \n",
       "3   3  [101, 2347, 2102, 2130, 2295, 11379, 2483, 150...  148   \n",
       "4   4  [101, 5639, 7104, 13566, 2202, 3423, 6355, 289...  212   \n",
       "\n",
       "                                          cls_output  \n",
       "0  [-0.44594392, 0.06953239, 0.046528567, 0.40067...  \n",
       "1  [-0.07137385, 0.1835863, 0.37147498, 0.2137879...  \n",
       "2  [-0.52994, 0.16760735, 0.36706507, 0.23636337,...  \n",
       "3  [-0.5394836, 0.22984922, 0.32722324, 0.0394827...  \n",
       "4  [-0.39268383, 0.33426964, 0.44466457, -0.14385...  "
      ]
     },
     "execution_count": 145,
     "metadata": {},
     "output_type": "execute_result"
    }
   ],
   "source": [
    "df_test_trunked.head(5)"
   ]
  },
  {
   "cell_type": "code",
   "execution_count": 146,
   "id": "849ab1b3",
   "metadata": {},
   "outputs": [],
   "source": [
    "# get max pooling for each ID\n",
    "keys = np.array(df_test_trunked['id'])\n",
    "vals = np.asarray(cls_output_list)\n",
    "array_grouped_dict_test = {key: vals[keys == key] for key in np.unique(keys)}\n",
    "for key in array_grouped_dict_test:\n",
    "    array_grouped_dict_test[key] = array_grouped_dict_test[key].mean(axis=0)"
   ]
  },
  {
   "cell_type": "code",
   "execution_count": 147,
   "id": "c547363b",
   "metadata": {},
   "outputs": [],
   "source": [
    "df_test['vector'] = df_test['id'].map(array_grouped_dict_train)"
   ]
  },
  {
   "cell_type": "code",
   "execution_count": 148,
   "id": "5ab6b9e5",
   "metadata": {},
   "outputs": [
    {
     "data": {
      "text/html": [
       "<div>\n",
       "<style scoped>\n",
       "    .dataframe tbody tr th:only-of-type {\n",
       "        vertical-align: middle;\n",
       "    }\n",
       "\n",
       "    .dataframe tbody tr th {\n",
       "        vertical-align: top;\n",
       "    }\n",
       "\n",
       "    .dataframe thead th {\n",
       "        text-align: right;\n",
       "    }\n",
       "</style>\n",
       "<table border=\"1\" class=\"dataframe\">\n",
       "  <thead>\n",
       "    <tr style=\"text-align: right;\">\n",
       "      <th></th>\n",
       "      <th>category</th>\n",
       "      <th>id</th>\n",
       "      <th>text</th>\n",
       "      <th>input_ids</th>\n",
       "      <th>len</th>\n",
       "      <th>vector</th>\n",
       "    </tr>\n",
       "  </thead>\n",
       "  <tbody>\n",
       "    <tr>\n",
       "      <th>0</th>\n",
       "      <td>0</td>\n",
       "      <td>0</td>\n",
       "      <td>could try httrack available recursive grab stu...</td>\n",
       "      <td>[2071, 3046, 1044, 4779, 22648, 2243, 2800, 28...</td>\n",
       "      <td>32</td>\n",
       "      <td>[-0.25802734, 0.459538, 0.18791308, 0.18568842...</td>\n",
       "    </tr>\n",
       "    <tr>\n",
       "      <th>1</th>\n",
       "      <td>0</td>\n",
       "      <td>1</td>\n",
       "      <td>adam l beberg wrote creator didnt say could wi...</td>\n",
       "      <td>[4205, 1048, 2022, 4059, 2626, 8543, 2134, 210...</td>\n",
       "      <td>130</td>\n",
       "      <td>[-0.492636, 0.2851513, 0.41103062, -0.0676382,...</td>\n",
       "    </tr>\n",
       "    <tr>\n",
       "      <th>2</th>\n",
       "      <td>0</td>\n",
       "      <td>2</td>\n",
       "      <td>gary lawrence murphy wrote say hello cool oooo...</td>\n",
       "      <td>[5639, 5623, 7104, 2626, 2360, 7592, 4658, 105...</td>\n",
       "      <td>233</td>\n",
       "      <td>[-0.86193824, 0.122727185, 0.120174795, 0.2243...</td>\n",
       "    </tr>\n",
       "    <tr>\n",
       "      <th>3</th>\n",
       "      <td>0</td>\n",
       "      <td>3</td>\n",
       "      <td>wasnt even though spellingis oddly familar new...</td>\n",
       "      <td>[2347, 2102, 2130, 2295, 11379, 2483, 15056, 6...</td>\n",
       "      <td>146</td>\n",
       "      <td>[-0.38687897, -0.046124548, 0.041686356, 0.058...</td>\n",
       "    </tr>\n",
       "    <tr>\n",
       "      <th>4</th>\n",
       "      <td>0</td>\n",
       "      <td>4</td>\n",
       "      <td>gary murphy intend take legal violent action p...</td>\n",
       "      <td>[5639, 7104, 13566, 2202, 3423, 6355, 2895, 21...</td>\n",
       "      <td>210</td>\n",
       "      <td>[-0.19225617, 0.049564634, -0.41233602, -0.067...</td>\n",
       "    </tr>\n",
       "  </tbody>\n",
       "</table>\n",
       "</div>"
      ],
      "text/plain": [
       "   category  id                                               text  \\\n",
       "0         0   0  could try httrack available recursive grab stu...   \n",
       "1         0   1  adam l beberg wrote creator didnt say could wi...   \n",
       "2         0   2  gary lawrence murphy wrote say hello cool oooo...   \n",
       "3         0   3  wasnt even though spellingis oddly familar new...   \n",
       "4         0   4  gary murphy intend take legal violent action p...   \n",
       "\n",
       "                                           input_ids  len  \\\n",
       "0  [2071, 3046, 1044, 4779, 22648, 2243, 2800, 28...   32   \n",
       "1  [4205, 1048, 2022, 4059, 2626, 8543, 2134, 210...  130   \n",
       "2  [5639, 5623, 7104, 2626, 2360, 7592, 4658, 105...  233   \n",
       "3  [2347, 2102, 2130, 2295, 11379, 2483, 15056, 6...  146   \n",
       "4  [5639, 7104, 13566, 2202, 3423, 6355, 2895, 21...  210   \n",
       "\n",
       "                                              vector  \n",
       "0  [-0.25802734, 0.459538, 0.18791308, 0.18568842...  \n",
       "1  [-0.492636, 0.2851513, 0.41103062, -0.0676382,...  \n",
       "2  [-0.86193824, 0.122727185, 0.120174795, 0.2243...  \n",
       "3  [-0.38687897, -0.046124548, 0.041686356, 0.058...  \n",
       "4  [-0.19225617, 0.049564634, -0.41233602, -0.067...  "
      ]
     },
     "execution_count": 148,
     "metadata": {},
     "output_type": "execute_result"
    }
   ],
   "source": [
    "df_test.head(5)"
   ]
  },
  {
   "cell_type": "markdown",
   "id": "eb5ef99a",
   "metadata": {},
   "source": [
    "# Logistic Regression"
   ]
  },
  {
   "cell_type": "code",
   "execution_count": 149,
   "id": "a81036f6",
   "metadata": {},
   "outputs": [],
   "source": [
    "# training data\n",
    "X = torch.tensor(list(df_train['vector'].values) )\n",
    "y = torch.tensor(list(df_train['category'].values)).float()"
   ]
  },
  {
   "cell_type": "code",
   "execution_count": 150,
   "id": "82c667fc",
   "metadata": {},
   "outputs": [],
   "source": [
    "# testing data\n",
    "X_test = torch.tensor(list(df_test['vector'].values) )\n",
    "y_test = torch.tensor(list(df_test['category'].values)).float()"
   ]
  },
  {
   "cell_type": "code",
   "execution_count": 151,
   "id": "4f1ffc3d",
   "metadata": {},
   "outputs": [
    {
     "name": "stdout",
     "output_type": "stream",
     "text": [
      "4636\n",
      "4636\n",
      "1160\n",
      "1160\n"
     ]
    }
   ],
   "source": [
    "print (len(X))\n",
    "print (len(y))\n",
    "print (len(X_test))\n",
    "print (len(y_test))"
   ]
  },
  {
   "cell_type": "code",
   "execution_count": 152,
   "id": "eef1670c",
   "metadata": {},
   "outputs": [],
   "source": [
    "from sklearn.linear_model import LogisticRegression\n",
    "from sklearn.model_selection import cross_val_score, StratifiedKFold\n",
    "logit = LogisticRegression(C=5e1, solver='lbfgs', random_state=17, n_jobs=4)"
   ]
  },
  {
   "cell_type": "code",
   "execution_count": 153,
   "id": "db0b6fb3",
   "metadata": {},
   "outputs": [
    {
     "name": "stdout",
     "output_type": "stream",
     "text": [
      "CPU times: user 26.8 ms, sys: 108 ms, total: 135 ms\n",
      "Wall time: 5.49 s\n"
     ]
    },
    {
     "data": {
      "text/plain": [
       "LogisticRegression(C=50.0, n_jobs=4, random_state=17)"
      ]
     },
     "execution_count": 153,
     "metadata": {},
     "output_type": "execute_result"
    }
   ],
   "source": [
    "%%time\n",
    "logit.fit(X, y)"
   ]
  },
  {
   "cell_type": "code",
   "execution_count": 154,
   "id": "a683c338",
   "metadata": {},
   "outputs": [],
   "source": [
    "y_pred = logit.predict(X_test)\n",
    "y_pred_proba = logit.predict_proba(X_test)[:,1]"
   ]
  },
  {
   "cell_type": "code",
   "execution_count": 157,
   "id": "5a30adcf",
   "metadata": {},
   "outputs": [
    {
     "data": {
      "image/png": "[encoded data removed]",
      "text/plain": [
       "<Figure size 432x288 with 1 Axes>"
      ]
     },
     "metadata": {
      "needs_background": "light"
     },
     "output_type": "display_data"
    }
   ],
   "source": [
    "from sklearn.metrics import roc_curve, roc_auc_score, auc\n",
    "from matplotlib import pyplot\n",
    "import sklearn.metrics as metrics\n",
    "%matplotlib inline\n",
    "\n",
    "# Compute ROC curve and ROC area for each class\n",
    "\n",
    "fpr, tpr, thresholds = metrics.roc_curve(y_test, y_pred_proba, pos_label=1)\n",
    "roc_auc = auc(fpr, tpr)\n",
    "\n",
    "plt.figure()\n",
    "lw = 2\n",
    "plt.plot(fpr, tpr, color='darkorange',\n",
    "         lw=lw, label='ROC curve (area = %0.2f)' % roc_auc)\n",
    "plt.plot([0, 1], [0, 1], color='navy', lw=lw, linestyle='--')\n",
    "plt.xlim([0.0, 1.0])\n",
    "plt.ylim([0.0, 1.05])\n",
    "plt.xlabel('False Positive Rate')\n",
    "plt.ylabel('True Positive Rate')\n",
    "plt.title('ROC curve of CLS outputs')\n",
    "plt.legend(loc=\"lower right\")\n",
    "plt.show()"
   ]
  },
  {
   "cell_type": "code",
   "execution_count": 156,
   "id": "db50c02a",
   "metadata": {},
   "outputs": [
    {
     "name": "stdout",
     "output_type": "stream",
     "text": [
      "Accuracy: 0.54\n",
      "Precision: 0.33\n",
      "F1: 0.34\n",
      "Recall: 0.34\n"
     ]
    }
   ],
   "source": [
    "from sklearn.metrics import f1_score, precision_score, recall_score, accuracy_score\n",
    "print('Accuracy: {0:.2f}'.format(accuracy_score(y_test, y_pred)))\n",
    "print('Precision: {0:.2f}'.format(precision_score(y_test, y_pred))) \n",
    "print('F1: {0:.2f}'.format(f1_score(y_test, y_pred))) \n",
    "print('Recall: {0:.2f}'.format(recall_score(y_test, y_pred)))"
   ]
  },
  {
   "cell_type": "code",
   "execution_count": null,
   "id": "73d2e7d8",
   "metadata": {},
   "outputs": [],
   "source": []
  }
 ],
 "metadata": {
  "kernelspec": {
   "display_name": "Python 3",
   "language": "python",
   "name": "python3"
  },
  "language_info": {
   "codemirror_mode": {
    "name": "ipython",
    "version": 3
   },
   "file_extension": ".py",
   "mimetype": "text/x-python",
   "name": "python",
   "nbconvert_exporter": "python",
   "pygments_lexer": "ipython3",
   "version": "3.9.7"
  }
 },
 "nbformat": 4,
 "nbformat_minor": 5
}
